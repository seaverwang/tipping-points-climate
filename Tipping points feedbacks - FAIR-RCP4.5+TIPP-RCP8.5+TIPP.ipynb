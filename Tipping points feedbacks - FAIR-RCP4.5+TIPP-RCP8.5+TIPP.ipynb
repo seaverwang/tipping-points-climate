{
 "cells": [
  {
   "cell_type": "code",
   "execution_count": 1,
   "metadata": {},
   "outputs": [],
   "source": [
    "%matplotlib inline\n",
    "import fair  #import FAIR"
   ]
  },
  {
   "cell_type": "code",
   "execution_count": 2,
   "metadata": {},
   "outputs": [
    {
     "data": {
      "text/plain": [
       "'1.5'"
      ]
     },
     "execution_count": 2,
     "metadata": {},
     "output_type": "execute_result"
    }
   ],
   "source": [
    "fair.__version__  #confirm FAIR version"
   ]
  },
  {
   "cell_type": "code",
   "execution_count": 3,
   "metadata": {},
   "outputs": [],
   "source": [
    "import numpy as np  #other settings\n",
    "import matplotlib.pyplot as plt\n",
    "import pandas as pd\n",
    "import os\n",
    "%matplotlib inline\n",
    "os.chdir('/Users/seaverwang/Documents/Tipping points/carbon figure resources/')\n",
    "from matplotlib import pyplot as plt\n",
    "plt.style.use('seaborn-darkgrid')\n",
    "plt.rcParams['figure.figsize'] = (16, 9)"
   ]
  },
  {
   "cell_type": "code",
   "execution_count": 4,
   "metadata": {},
   "outputs": [],
   "source": [
    "from fair.forward import fair_scm  #import FAIR engine"
   ]
  },
  {
   "cell_type": "code",
   "execution_count": 5,
   "metadata": {},
   "outputs": [],
   "source": [
    "emissionsdata = pd.read_csv('emissions_scenarios.csv')\n",
    "#type(emissionsdata)"
   ]
  },
  {
   "cell_type": "code",
   "execution_count": 6,
   "metadata": {},
   "outputs": [
    {
     "data": {
      "text/html": [
       "<div>\n",
       "<style scoped>\n",
       "    .dataframe tbody tr th:only-of-type {\n",
       "        vertical-align: middle;\n",
       "    }\n",
       "\n",
       "    .dataframe tbody tr th {\n",
       "        vertical-align: top;\n",
       "    }\n",
       "\n",
       "    .dataframe thead th {\n",
       "        text-align: right;\n",
       "    }\n",
       "</style>\n",
       "<table border=\"1\" class=\"dataframe\">\n",
       "  <thead>\n",
       "    <tr style=\"text-align: right;\">\n",
       "      <th></th>\n",
       "      <th>SSP2_4.5_emissionstotal</th>\n",
       "      <th>NewBAU_IEA_emissionstotal</th>\n",
       "    </tr>\n",
       "  </thead>\n",
       "  <tbody>\n",
       "    <tr>\n",
       "      <td>0</td>\n",
       "      <td>30068.13125</td>\n",
       "      <td>30068.13125</td>\n",
       "    </tr>\n",
       "    <tr>\n",
       "      <td>1</td>\n",
       "      <td>30025.26579</td>\n",
       "      <td>30025.26579</td>\n",
       "    </tr>\n",
       "    <tr>\n",
       "      <td>2</td>\n",
       "      <td>31271.59400</td>\n",
       "      <td>31271.59400</td>\n",
       "    </tr>\n",
       "    <tr>\n",
       "      <td>3</td>\n",
       "      <td>32735.70201</td>\n",
       "      <td>32735.70201</td>\n",
       "    </tr>\n",
       "    <tr>\n",
       "      <td>4</td>\n",
       "      <td>33862.72637</td>\n",
       "      <td>33862.72637</td>\n",
       "    </tr>\n",
       "  </tbody>\n",
       "</table>\n",
       "</div>"
      ],
      "text/plain": [
       "   SSP2_4.5_emissionstotal  NewBAU_IEA_emissionstotal\n",
       "0              30068.13125                30068.13125\n",
       "1              30025.26579                30025.26579\n",
       "2              31271.59400                31271.59400\n",
       "3              32735.70201                32735.70201\n",
       "4              33862.72637                33862.72637"
      ]
     },
     "execution_count": 6,
     "metadata": {},
     "output_type": "execute_result"
    }
   ],
   "source": [
    "emissionsdata.head() #we have two scenarios, the second is Zeke's new BAU scenario. Units in Mt CO2"
   ]
  },
  {
   "cell_type": "code",
   "execution_count": 7,
   "metadata": {},
   "outputs": [
    {
     "data": {
      "text/plain": [
       "array([8.20039123, 8.18870066, 8.52860802, 8.9279098 , 9.23527977])"
      ]
     },
     "execution_count": 7,
     "metadata": {},
     "output_type": "execute_result"
    }
   ],
   "source": [
    "from fair.RCPs import rcp26, rcp45, rcp60, rcp85\n",
    "from fair.ancil import natural, cmip6_volcanic, cmip6_solar#, historical_scaling\n",
    "#convert units of emissions into Gt C from Mt CO2\n",
    "\n",
    "emissionsdata=emissionsdata.copy()*0.272727/1000\n",
    "\n",
    "emissionsdata_NewBAU_IEA=emissionsdata.to_numpy()[:,1]\n",
    "emissionsdata_NewBAU_IEA[0:5]"
   ]
  },
  {
   "cell_type": "code",
   "execution_count": 8,
   "metadata": {},
   "outputs": [
    {
     "data": {
      "text/plain": [
       "array([10.9533 , 10.99177, 11.03024, 11.06871, 11.10718])"
      ]
     },
     "execution_count": 8,
     "metadata": {},
     "output_type": "execute_result"
    }
   ],
   "source": [
    "rcp45.Emissions.emissions[265:270,1]# dates from 2030-2034"
   ]
  },
  {
   "cell_type": "code",
   "execution_count": 9,
   "metadata": {},
   "outputs": [
    {
     "data": {
      "text/plain": [
       "array([13.8391 , 14.13385, 14.4286 , 14.72335, 15.0181 ])"
      ]
     },
     "execution_count": 9,
     "metadata": {},
     "output_type": "execute_result"
    }
   ],
   "source": [
    "rcp85.Emissions.emissions[265:270,1]# dates from 2030-2034"
   ]
  },
  {
   "cell_type": "code",
   "execution_count": 10,
   "metadata": {},
   "outputs": [
    {
     "data": {
      "image/png": "[encoded data removed]",
      "text/plain": [
       "<Figure size 1152x648 with 1 Axes>"
      ]
     },
     "metadata": {},
     "output_type": "display_data"
    }
   ],
   "source": [
    "from scipy.stats import gamma\n",
    "\n",
    "natural_short=natural.Emissions.emissions[0:336].copy()\n",
    "cmip6_volcanic_short=cmip6_volcanic.Forcing.volcanic[0:336].copy()\n",
    "cmip6_solar_short=cmip6_solar.Forcing.solar[0:336].copy()\n",
    "#historical_scaling_short=\n",
    "\n",
    "#RCP 4.5\n",
    "emissions45=rcp45.Emissions.emissions[0:336].copy()\n",
    "\n",
    "#RCP 4.5 with tipping points\n",
    "emissions45_TIPP=rcp45.Emissions.emissions[0:336].copy()\n",
    "\n",
    "#add tipping points from land use, specify CO2 from tipping points, GtC/yr\n",
    "\n",
    "emissions45_TIPP[235:336,2]=emissions45_TIPP[235:336,2].copy()+0.667+0.039+0.494+1.078#\n",
    "#emissionsBAUtipping[:,2]=emissionsBAUtipping[:,2]+1.074#gradual thaw CO2, constant flux from 2020 to 2100\n",
    "#emissionsBAUtipping[:,2]=emissionsBAUtipping[:,2]+0.014#abrupt thaw CO2, constant flux from 2020 to 2100\n",
    "#emissionsBAUtipping[:,2]=emissionsBAUtipping[:,2]+0.490#boreal forest CO2, constant flux from 2020 to 2100\n",
    "#emissionsBAUtipping[150:221,2]=emissionsBAUtipping[150:221,2]+1.078#Amazon forest CO2, constant flux from 2020 to 2070\n",
    "\n",
    "# specify methane in this example, Mt/yr\n",
    "# emissions[:,3] = 300.\n",
    "\n",
    "emissions45_TIPP[235:336,3]=emissions45_TIPP[235:336,3].copy()+13.58+70.74+5.84#\n",
    "#emissionsBAUtipping[:,3]=emissionsBAUtipping[:,3]+13.58#methane, gradual thaw, constant flux from 2020 to 2100\n",
    "#emissionsBAUtipping[:,3]=emissionsBAUtipping[:,3]+82.93#methane, abrupt thaw, constant flux from 2020 to 2100\n",
    "#emissionsBAUtipping[:,3]=emissionsBAUtipping[:,3]+5.84#methane, methane hydrates, constant flux from 2020 to 2100\n",
    "# emissions[:,5] = 0.1*np.arange(250)   # SOx\n",
    "\n",
    "\n",
    "\n",
    "\n",
    "#RCP 8.5\n",
    "emissions85=rcp85.Emissions.emissions[0:336].copy()\n",
    "\n",
    "#RCP 8.5 with tipping points\n",
    "emissions85_TIPP=rcp85.Emissions.emissions[0:336].copy()\n",
    "\n",
    "#add tipping points from land use, specify CO2 from tipping points, GtC/yr\n",
    "\n",
    "emissions85_TIPP[235:336,2]=emissions85_TIPP[235:336,2].copy()+1.074+0.141+0.494+1.078#\n",
    "#emissionsBAUtipping[:,2]=emissionsBAUtipping[:,2]+1.074#gradual thaw CO2, constant flux from 2020 to 2100\n",
    "#emissionsBAUtipping[:,2]=emissionsBAUtipping[:,2]+0.014#abrupt thaw CO2, constant flux from 2020 to 2100\n",
    "#emissionsBAUtipping[:,2]=emissionsBAUtipping[:,2]+0.490#boreal forest CO2, constant flux from 2020 to 2100\n",
    "#emissionsBAUtipping[150:221,2]=emissionsBAUtipping[150:221,2]+1.078#Amazon forest CO2, constant flux from 2020 to 2070\n",
    "\n",
    "# specify methane in this example, Mt/yr\n",
    "# emissions[:,3] = 300.\n",
    "\n",
    "emissions85_TIPP[235:336,3]=emissions85_TIPP[235:336,3].copy()+13.58+82.93+11.68#\n",
    "#emissionsBAUtipping[:,3]=emissionsBAUtipping[:,3]+13.58#methane, gradual thaw, constant flux from 2020 to 2100\n",
    "#emissionsBAUtipping[:,3]=emissionsBAUtipping[:,3]+82.93#methane, abrupt thaw, constant flux from 2020 to 2100\n",
    "#emissionsBAUtipping[:,3]=emissionsBAUtipping[:,3]+5.84#methane, methane hydrates, constant flux from 2020 to 2100\n",
    "# emissions[:,5] = 0.1*np.arange(250)   # SOx\n",
    "\n",
    "\n",
    "\n",
    "\n",
    "#rows from \n",
    "#the year 2000 AD is indexed at row 235 (w zero indexing). \n",
    "#The year 2100 is row 335\n",
    "# remember column zero is the years\n",
    "\n",
    "\n",
    "#RCP4.5 - 0.3 W/m^2 by 2050, 0.4 W/m^2 by 2100\n",
    "other_rf_ice = np.zeros(336)\n",
    "for x in range(0, 234):\n",
    "    other_rf_ice[x] = 0\n",
    "for y in range(235, 286):\n",
    "    other_rf_ice[y] = 0+(0.006 * (y-235))\n",
    "for z in range(286, 336):\n",
    "    other_rf_ice[z] = 0.3+(0.002 * (z-286))\n",
    "    \n",
    "# plot the output\n",
    "#fig = plt.figure()\n",
    "#ax1 = fig.add_subplot(221)\n",
    "#ax1.plot(range(0, other_rf_ice.size), other_rf_ice, color='orange')\n",
    "#ax1.set_ylabel('Radiative forcing (W m$^{-2}$)')\n",
    "\n",
    "#RCP8.5 - RCP8.5 - 0.3 W/m^2 by 2030, 0.6 W/m^2 by 2100\n",
    "other_rf_ice2 = np.zeros(336)\n",
    "for x2 in range(0, 234):\n",
    "    other_rf_ice2[x2] = 0\n",
    "for y2 in range(235, 266):\n",
    "    other_rf_ice2[y2] = 0+(0.01 * (y2-235))\n",
    "for z2 in range(266, 336):\n",
    "    other_rf_ice2[z2] = 0.3+(0.00429 * (z2-266))\n",
    "    \n",
    "# plot the output\n",
    "fig = plt.figure()\n",
    "ax1 = fig.add_subplot(221)\n",
    "ax1.plot(range(0, other_rf_ice2.size), other_rf_ice2, color='orange')\n",
    "ax1.set_ylabel('Radiative forcing (W m$^{-2}$)')\n",
    "\n",
    "other_rf_ice3 = np.zeros(336)\n",
    "for x3 in range(0, 234):\n",
    "    other_rf_ice3[x3] = 6\n",
    "for y3 in range(235, 266):\n",
    "    other_rf_ice3[y3] = 6\n",
    "for z3 in range(266, 336):\n",
    "    other_rf_ice3[z3] = 6"
   ]
  },
  {
   "cell_type": "code",
   "execution_count": 11,
   "metadata": {},
   "outputs": [
    {
     "data": {
      "text/plain": [
       "336"
      ]
     },
     "execution_count": 11,
     "metadata": {},
     "output_type": "execute_result"
    }
   ],
   "source": [
    "len(other_rf_ice)"
   ]
  },
  {
   "cell_type": "code",
   "execution_count": 12,
   "metadata": {},
   "outputs": [
    {
     "data": {
      "text/plain": [
       "336"
      ]
     },
     "execution_count": 12,
     "metadata": {},
     "output_type": "execute_result"
    }
   ],
   "source": [
    "len(cmip6_volcanic_short)"
   ]
  },
  {
   "cell_type": "code",
   "execution_count": 13,
   "metadata": {},
   "outputs": [
    {
     "data": {
      "text/plain": [
       "array([0.2163 , 0.21454, 0.21278, 0.21102, 0.20926])"
      ]
     },
     "execution_count": 13,
     "metadata": {},
     "output_type": "execute_result"
    }
   ],
   "source": [
    "rcp45.Emissions.emissions[265:270,2]# dates from 2030-2034"
   ]
  },
  {
   "cell_type": "code",
   "execution_count": 14,
   "metadata": {},
   "outputs": [
    {
     "data": {
      "text/plain": [
       "array([0.2163 , 0.21454, 0.21278, 0.21102, 0.20926])"
      ]
     },
     "execution_count": 14,
     "metadata": {},
     "output_type": "execute_result"
    }
   ],
   "source": [
    "emissions45[265:270,2]# Should be identical to the above"
   ]
  },
  {
   "cell_type": "code",
   "execution_count": 15,
   "metadata": {},
   "outputs": [
    {
     "data": {
      "text/plain": [
       "array([2.278, 2.278, 2.278, 2.278, 2.278])"
      ]
     },
     "execution_count": 15,
     "metadata": {},
     "output_type": "execute_result"
    }
   ],
   "source": [
    "emissions45_TIPP[265:270,2]-emissions45[265:270,2]# dates from 2030-2034. 2.278 Gt/yr extra CO2 is correct."
   ]
  },
  {
   "cell_type": "code",
   "execution_count": 16,
   "metadata": {},
   "outputs": [
    {
     "data": {
      "text/plain": [
       "array([2.787, 2.787, 2.787, 2.787, 2.787])"
      ]
     },
     "execution_count": 16,
     "metadata": {},
     "output_type": "execute_result"
    }
   ],
   "source": [
    "emissions85_TIPP[265:270,2]-emissions85[265:270,2]# dates from 2030-2034. 2.787 Gt/yr extra CO2 is correct.\n"
   ]
  },
  {
   "cell_type": "code",
   "execution_count": 17,
   "metadata": {},
   "outputs": [
    {
     "data": {
      "text/plain": [
       "array([90.16, 90.16, 90.16, 90.16, 90.16])"
      ]
     },
     "execution_count": 17,
     "metadata": {},
     "output_type": "execute_result"
    }
   ],
   "source": [
    "emissions45_TIPP[265:270,3]-emissions45[265:270,3]# dates from 2030-2034, 90.16 Mt/yr extra CH4 is correct"
   ]
  },
  {
   "cell_type": "code",
   "execution_count": 18,
   "metadata": {},
   "outputs": [
    {
     "data": {
      "text/plain": [
       "array([108.19, 108.19, 108.19, 108.19, 108.19])"
      ]
     },
     "execution_count": 18,
     "metadata": {},
     "output_type": "execute_result"
    }
   ],
   "source": [
    "emissions85_TIPP[265:270,3]-emissions85[265:270,3]# dates from 2030-2034, 108.19 Mt/yr extra CH4 is correct"
   ]
  },
  {
   "cell_type": "code",
   "execution_count": 19,
   "metadata": {},
   "outputs": [],
   "source": [
    "# RCP runs\n",
    "C45, F45, T45 = fair.forward.fair_scm(emissions=emissions45,natural=natural_short,F_volcanic=cmip6_volcanic_short,F_solar=cmip6_solar_short)\n",
    "C45TIPP, F45TIPP, T45TIPP = fair.forward.fair_scm(emissions=emissions45_TIPP,natural=natural_short,F_volcanic=cmip6_volcanic_short,F_solar=cmip6_solar_short+other_rf_ice)\n",
    "C85, F85, T85 = fair.forward.fair_scm(emissions=emissions85,natural=natural_short,F_volcanic=cmip6_volcanic_short,F_solar=cmip6_solar_short)\n",
    "C85TIPP, F85TIPP, T85TIPP = fair.forward.fair_scm(emissions=emissions85_TIPP,natural=natural_short,F_volcanic=cmip6_volcanic_short,F_solar=cmip6_solar_short+other_rf_ice2)\n",
    "\n",
    "# "
   ]
  },
  {
   "cell_type": "code",
   "execution_count": 20,
   "metadata": {},
   "outputs": [
    {
     "data": {
      "text/plain": [
       "0.5024255111263658"
      ]
     },
     "execution_count": 20,
     "metadata": {},
     "output_type": "execute_result"
    }
   ],
   "source": [
    "T45TIPP[-1]-T45[-1]"
   ]
  },
  {
   "cell_type": "code",
   "execution_count": 21,
   "metadata": {},
   "outputs": [
    {
     "data": {
      "text/plain": [
       "0.5404011979702803"
      ]
     },
     "execution_count": 21,
     "metadata": {},
     "output_type": "execute_result"
    }
   ],
   "source": [
    "T85TIPP[-1]-T85[-1]"
   ]
  },
  {
   "cell_type": "code",
   "execution_count": 22,
   "metadata": {},
   "outputs": [
    {
     "data": {
      "text/plain": [
       "73.05018447770567"
      ]
     },
     "execution_count": 22,
     "metadata": {},
     "output_type": "execute_result"
    }
   ],
   "source": [
    "C45TIPP[-1,0]-C45[-1,0]"
   ]
  },
  {
   "cell_type": "code",
   "execution_count": 23,
   "metadata": {},
   "outputs": [
    {
     "data": {
      "text/plain": [
       "110.36287405525638"
      ]
     },
     "execution_count": 23,
     "metadata": {},
     "output_type": "execute_result"
    }
   ],
   "source": [
    "C85TIPP[-1,0]-C85[-1,0]"
   ]
  },
  {
   "cell_type": "code",
   "execution_count": 24,
   "metadata": {},
   "outputs": [],
   "source": [
    "F45TOTAL=np.sum(F45, axis=1)"
   ]
  },
  {
   "cell_type": "code",
   "execution_count": 25,
   "metadata": {},
   "outputs": [],
   "source": [
    "F45TOTALTIPP=np.sum(F45TIPP, axis=1)"
   ]
  },
  {
   "cell_type": "code",
   "execution_count": 26,
   "metadata": {},
   "outputs": [],
   "source": [
    "F85TOTAL=np.sum(F85, axis=1)"
   ]
  },
  {
   "cell_type": "code",
   "execution_count": 27,
   "metadata": {},
   "outputs": [],
   "source": [
    "F85TOTALTIPP=np.sum(F85TIPP, axis=1)"
   ]
  },
  {
   "cell_type": "code",
   "execution_count": 28,
   "metadata": {},
   "outputs": [],
   "source": [
    "#F45[:,0]"
   ]
  },
  {
   "cell_type": "code",
   "execution_count": 29,
   "metadata": {},
   "outputs": [],
   "source": [
    "#F45[:,1]"
   ]
  },
  {
   "cell_type": "code",
   "execution_count": 30,
   "metadata": {},
   "outputs": [],
   "source": [
    "F45CO2CH4=F45[:,0]+F45[:,1]"
   ]
  },
  {
   "cell_type": "code",
   "execution_count": 31,
   "metadata": {},
   "outputs": [],
   "source": [
    "#F45CO2CH4[-1]"
   ]
  },
  {
   "cell_type": "code",
   "execution_count": 32,
   "metadata": {},
   "outputs": [],
   "source": [
    "F45CO2CH4TIPP=F45TIPP[:,0]+F45TIPP[:,1]"
   ]
  },
  {
   "cell_type": "code",
   "execution_count": 33,
   "metadata": {},
   "outputs": [],
   "source": [
    "F85CO2CH4=F85[:,0]+F85[:,1]"
   ]
  },
  {
   "cell_type": "code",
   "execution_count": 34,
   "metadata": {},
   "outputs": [],
   "source": [
    "F85CO2CH4TIPP=F85TIPP[:,0]+F85TIPP[:,1]"
   ]
  },
  {
   "cell_type": "code",
   "execution_count": 35,
   "metadata": {},
   "outputs": [],
   "source": [
    "F45DIFF=F45TOTALTIPP-F45TOTAL"
   ]
  },
  {
   "cell_type": "code",
   "execution_count": 36,
   "metadata": {},
   "outputs": [],
   "source": [
    "F85DIFF=F85TOTALTIPP-F85TOTAL"
   ]
  },
  {
   "cell_type": "code",
   "execution_count": 37,
   "metadata": {},
   "outputs": [
    {
     "data": {
      "text/plain": [
       "1.041264397227324"
      ]
     },
     "execution_count": 37,
     "metadata": {},
     "output_type": "execute_result"
    }
   ],
   "source": [
    "F45DIFF[-1]"
   ]
  },
  {
   "cell_type": "code",
   "execution_count": 38,
   "metadata": {},
   "outputs": [
    {
     "data": {
      "text/plain": [
       "1.0948722026367612"
      ]
     },
     "execution_count": 38,
     "metadata": {},
     "output_type": "execute_result"
    }
   ],
   "source": [
    "F85DIFF[-1]"
   ]
  },
  {
   "cell_type": "code",
   "execution_count": 39,
   "metadata": {},
   "outputs": [],
   "source": [
    "F45GHGDIFF=F45CO2CH4TIPP-F45CO2CH4"
   ]
  },
  {
   "cell_type": "code",
   "execution_count": 40,
   "metadata": {},
   "outputs": [],
   "source": [
    "F85GHGDIFF=F85CO2CH4TIPP-F85CO2CH4"
   ]
  },
  {
   "cell_type": "code",
   "execution_count": 41,
   "metadata": {},
   "outputs": [
    {
     "data": {
      "text/plain": [
       "0.8381143027821079"
      ]
     },
     "execution_count": 41,
     "metadata": {},
     "output_type": "execute_result"
    }
   ],
   "source": [
    "F45GHGDIFF[-1]"
   ]
  },
  {
   "cell_type": "code",
   "execution_count": 42,
   "metadata": {},
   "outputs": [
    {
     "data": {
      "text/plain": [
       "0.7481939156431583"
      ]
     },
     "execution_count": 42,
     "metadata": {},
     "output_type": "execute_result"
    }
   ],
   "source": [
    "F85GHGDIFF[-1]"
   ]
  },
  {
   "cell_type": "code",
   "execution_count": 44,
   "metadata": {},
   "outputs": [
    {
     "data": {
      "image/png": "[encoded data removed]",
      "text/plain": [
       "<Figure size 1152x648 with 4 Axes>"
      ]
     },
     "metadata": {},
     "output_type": "display_data"
    }
   ],
   "source": [
    "fig = plt.figure()\n",
    "ax1 = fig.add_subplot(221)\n",
    "ax2 = fig.add_subplot(222)\n",
    "ax3 = fig.add_subplot(223)\n",
    "ax4 = fig.add_subplot(224)\n",
    "\n",
    "ax1.plot(rcp45.Emissions.year[0:336], emissions45[:,1], color='green', label='RCP4.5')\n",
    "ax2.plot(rcp45.Emissions.year[0:336], C45[:, 0], color='green')\n",
    "ax3.plot(rcp45.Emissions.year[0:336], np.sum(F45, axis=1), color='green')\n",
    "ax4.plot(rcp45.Emissions.year[0:336], T45, color='green')\n",
    "\n",
    "ax1.plot(rcp45.Emissions.year[0:336], emissions45_TIPP[:,1], color='blue', label='RCP4.5 TIPP')\n",
    "ax2.plot(rcp45.Emissions.year[0:336], C45TIPP[:, 0], color='blue')\n",
    "ax3.plot(rcp45.Emissions.year[0:336], np.sum(F45TIPP, axis=1), color='blue')\n",
    "ax4.plot(rcp45.Emissions.year[0:336], T45TIPP, color='blue')\n",
    "\n",
    "ax1.plot(rcp60.Emissions.year[0:336], emissions85[:,1], color='red', label='RCP8.5')\n",
    "ax2.plot(rcp60.Emissions.year[0:336], C85[:, 0], color='red')\n",
    "ax3.plot(rcp60.Emissions.year[0:336], np.sum(F85, axis=1), color='red')\n",
    "ax4.plot(rcp60.Emissions.year[0:336], T85, color='red')\n",
    "\n",
    "ax1.plot(rcp85.Emissions.year[0:336], emissions85_TIPP[:,1], color='black', label='RCP8.5 TIPP')\n",
    "ax2.plot(rcp85.Emissions.year[0:336], C85TIPP[:, 0], color='black')\n",
    "ax3.plot(rcp85.Emissions.year[0:336], np.sum(F85TIPP, axis=1), color='black')\n",
    "ax4.plot(rcp85.Emissions.year[0:336], T85TIPP, color='black')\n",
    "\n",
    "ax1.set_ylabel('Fossil CO$_2$ Emissions (Gt C)')\n",
    "ax1.legend()\n",
    "ax2.set_ylabel('CO$_2$ concentrations (ppm)')\n",
    "ax3.set_ylabel('Total radiative forcing (W m$^{-2}$)')\n",
    "ax4.set_ylabel('Temperature anomaly (K)');\n",
    "\n",
    "fig.savefig('RCPs_TIPP_HD.png', bbox_inches='tight', dpi=300)"
   ]
  },
  {
   "cell_type": "code",
   "execution_count": null,
   "metadata": {},
   "outputs": [],
   "source": [
    "fig.savefig('RCPs_TIPP.png')"
   ]
  },
  {
   "cell_type": "code",
   "execution_count": null,
   "metadata": {},
   "outputs": [],
   "source": [
    "# RCP runs\n",
    "C45_noice, F45_noice, T45_noice = fair.forward.fair_scm(emissions=emissions45,natural=natural_short,F_volcanic=cmip6_volcanic_short,F_solar=cmip6_solar_short)\n",
    "C45TIPP_noice, F45TIPP_noice, T45TIPP_noice = fair.forward.fair_scm(emissions=emissions45_TIPP,natural=natural_short,F_volcanic=cmip6_volcanic_short,F_solar=cmip6_solar_short)\n",
    "C85_noice, F85_noice, T85_noice = fair.forward.fair_scm(emissions=emissions85,natural=natural_short,F_volcanic=cmip6_volcanic_short,F_solar=cmip6_solar_short)\n",
    "C85TIPP_noice, F85TIPP_noice, T85TIPP_noice = fair.forward.fair_scm(emissions=emissions85_TIPP,natural=natural_short,F_volcanic=cmip6_volcanic_short,F_solar=cmip6_solar_short)\n"
   ]
  },
  {
   "cell_type": "code",
   "execution_count": null,
   "metadata": {},
   "outputs": [],
   "source": [
    "fig = plt.figure()\n",
    "ax1 = fig.add_subplot(221)\n",
    "ax2 = fig.add_subplot(222)\n",
    "ax3 = fig.add_subplot(223)\n",
    "ax4 = fig.add_subplot(224)\n",
    "\n",
    "ax1.plot(rcp45.Emissions.year[0:336], emissions45[:,1], color='green', label='RCP4.5')\n",
    "# just show CO2 conc.\n",
    "ax2.plot(rcp45.Emissions.year[0:336], C45_noice[:, 0], color='green')\n",
    "# sum over axis 1 to get total ERF\n",
    "ax3.plot(rcp45.Emissions.year[0:336], np.sum(F45_noice, axis=1), color='green')\n",
    "ax4.plot(rcp45.Emissions.year[0:336], T45_noice, color='green')\n",
    "\n",
    "ax1.plot(rcp45.Emissions.year[0:336], emissions45_TIPP[:,1], color='blue', label='RCP4.5 TIPP')\n",
    "ax2.plot(rcp45.Emissions.year[0:336], C45TIPP_noice[:, 0], color='blue')\n",
    "ax3.plot(rcp45.Emissions.year[0:336], np.sum(F45TIPP_noice, axis=1), color='blue')\n",
    "ax4.plot(rcp45.Emissions.year[0:336], T45TIPP_noice, color='blue')\n",
    "\n",
    "ax1.plot(rcp60.Emissions.year[0:336], emissions85[:,1], color='red', label='RCP8.5')\n",
    "ax2.plot(rcp60.Emissions.year[0:336], C85_noice[:, 0], color='red')\n",
    "ax3.plot(rcp60.Emissions.year[0:336], np.sum(F85_noice, axis=1), color='red')\n",
    "ax4.plot(rcp60.Emissions.year[0:336], T85_noice, color='red')\n",
    "\n",
    "ax1.plot(rcp85.Emissions.year[0:336], emissions85_TIPP[:,1], color='black', label='RCP8.5 TIPP')\n",
    "ax2.plot(rcp85.Emissions.year[0:336], C85TIPP_noice[:, 0], color='black')\n",
    "ax3.plot(rcp85.Emissions.year[0:336], np.sum(F85TIPP_noice, axis=1), color='black')\n",
    "ax4.plot(rcp85.Emissions.year[0:336], T85TIPP_noice, color='black')\n",
    "\n",
    "ax1.set_ylabel('Fossil CO$_2$ Emissions (GtC)')\n",
    "ax1.legend()\n",
    "ax2.set_ylabel('CO$_2$ concentrations (ppm)')\n",
    "ax3.set_ylabel('Total radiative forcing (W m$^{-2}$)')\n",
    "ax4.set_ylabel('Temperature anomaly (K)');"
   ]
  },
  {
   "cell_type": "code",
   "execution_count": null,
   "metadata": {
    "scrolled": true
   },
   "outputs": [],
   "source": [
    "#run with multiple ECS\n",
    "#\n",
    "## create output arrays\n",
    "##nrun=3\n",
    "#C = np.empty((emissions.size, nrun))\n",
    "#F = np.empty((emissions.size, nrun))\n",
    "#T = np.empty((emissions.size, nrun))\n",
    "#\n",
    "#ecs = np.array([2.0, 3.0, 4.5])# question for Zeke - what ECS?\n",
    "#C[:,i],F[:,i],T[:,i] = \n",
    "#tcrecs=[ecs[i]]"
   ]
  }
 ],
 "metadata": {
  "kernelspec": {
   "display_name": "Python 3",
   "language": "python",
   "name": "python3"
  },
  "language_info": {
   "codemirror_mode": {
    "name": "ipython",
    "version": 3
   },
   "file_extension": ".py",
   "mimetype": "text/x-python",
   "name": "python",
   "nbconvert_exporter": "python",
   "pygments_lexer": "ipython3",
   "version": "3.7.4"
  }
 },
 "nbformat": 4,
 "nbformat_minor": 2
}
